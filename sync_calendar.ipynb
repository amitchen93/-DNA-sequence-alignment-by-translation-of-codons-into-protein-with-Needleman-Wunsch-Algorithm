{
  "nbformat": 4,
  "nbformat_minor": 0,
  "metadata": {
    "colab": {
      "name": "Untitled2.ipynb",
      "provenance": [],
      "authorship_tag": "ABX9TyMUXwcWWsvtMrQYi4LVTdR7",
      "include_colab_link": true
    },
    "kernelspec": {
      "name": "python3",
      "display_name": "Python 3"
    },
    "language_info": {
      "name": "python"
    }
  },
  "cells": [
    {
      "cell_type": "markdown",
      "metadata": {
        "id": "view-in-github",
        "colab_type": "text"
      },
      "source": [
        "<a href=\"https://colab.research.google.com/github/amitchen93/-DNA-sequence-alignment-by-translation-of-codons-into-protein-with-Needleman-Wunsch-Algorithm/blob/main/sync_calendar.ipynb\" target=\"_parent\"><img src=\"https://colab.research.google.com/assets/colab-badge.svg\" alt=\"Open In Colab\"/></a>"
      ]
    },
    {
      "cell_type": "code",
      "execution_count": 1,
      "metadata": {
        "colab": {
          "base_uri": "https://localhost:8080/"
        },
        "id": "S00Q_GnT4VmJ",
        "outputId": "f41a61e4-d111-4a40-a874-2879e15a61a2"
      },
      "outputs": [
        {
          "output_type": "stream",
          "name": "stdout",
          "text": [
            "Looking in indexes: https://pypi.org/simple, https://us-python.pkg.dev/colab-wheels/public/simple/\n",
            "Requirement already satisfied: google-api-python-client in /usr/local/lib/python3.7/dist-packages (1.12.11)\n",
            "Requirement already satisfied: httplib2<1dev,>=0.15.0 in /usr/local/lib/python3.7/dist-packages (from google-api-python-client) (0.17.4)\n",
            "Requirement already satisfied: google-auth-httplib2>=0.0.3 in /usr/local/lib/python3.7/dist-packages (from google-api-python-client) (0.0.4)\n",
            "Requirement already satisfied: google-auth<3dev,>=1.16.0 in /usr/local/lib/python3.7/dist-packages (from google-api-python-client) (1.35.0)\n",
            "Requirement already satisfied: six<2dev,>=1.13.0 in /usr/local/lib/python3.7/dist-packages (from google-api-python-client) (1.15.0)\n",
            "Requirement already satisfied: google-api-core<3dev,>=1.21.0 in /usr/local/lib/python3.7/dist-packages (from google-api-python-client) (1.31.6)\n",
            "Requirement already satisfied: uritemplate<4dev,>=3.0.0 in /usr/local/lib/python3.7/dist-packages (from google-api-python-client) (3.0.1)\n",
            "Requirement already satisfied: protobuf<4.0.0dev,>=3.12.0 in /usr/local/lib/python3.7/dist-packages (from google-api-core<3dev,>=1.21.0->google-api-python-client) (3.17.3)\n",
            "Requirement already satisfied: pytz in /usr/local/lib/python3.7/dist-packages (from google-api-core<3dev,>=1.21.0->google-api-python-client) (2022.2.1)\n",
            "Requirement already satisfied: googleapis-common-protos<2.0dev,>=1.6.0 in /usr/local/lib/python3.7/dist-packages (from google-api-core<3dev,>=1.21.0->google-api-python-client) (1.56.4)\n",
            "Requirement already satisfied: setuptools>=40.3.0 in /usr/local/lib/python3.7/dist-packages (from google-api-core<3dev,>=1.21.0->google-api-python-client) (57.4.0)\n",
            "Requirement already satisfied: packaging>=14.3 in /usr/local/lib/python3.7/dist-packages (from google-api-core<3dev,>=1.21.0->google-api-python-client) (21.3)\n",
            "Requirement already satisfied: requests<3.0.0dev,>=2.18.0 in /usr/local/lib/python3.7/dist-packages (from google-api-core<3dev,>=1.21.0->google-api-python-client) (2.23.0)\n",
            "Requirement already satisfied: cachetools<5.0,>=2.0.0 in /usr/local/lib/python3.7/dist-packages (from google-auth<3dev,>=1.16.0->google-api-python-client) (4.2.4)\n",
            "Requirement already satisfied: rsa<5,>=3.1.4 in /usr/local/lib/python3.7/dist-packages (from google-auth<3dev,>=1.16.0->google-api-python-client) (4.9)\n",
            "Requirement already satisfied: pyasn1-modules>=0.2.1 in /usr/local/lib/python3.7/dist-packages (from google-auth<3dev,>=1.16.0->google-api-python-client) (0.2.8)\n",
            "Requirement already satisfied: pyparsing!=3.0.5,>=2.0.2 in /usr/local/lib/python3.7/dist-packages (from packaging>=14.3->google-api-core<3dev,>=1.21.0->google-api-python-client) (3.0.9)\n",
            "Requirement already satisfied: pyasn1<0.5.0,>=0.4.6 in /usr/local/lib/python3.7/dist-packages (from pyasn1-modules>=0.2.1->google-auth<3dev,>=1.16.0->google-api-python-client) (0.4.8)\n",
            "Requirement already satisfied: certifi>=2017.4.17 in /usr/local/lib/python3.7/dist-packages (from requests<3.0.0dev,>=2.18.0->google-api-core<3dev,>=1.21.0->google-api-python-client) (2022.6.15)\n",
            "Requirement already satisfied: idna<3,>=2.5 in /usr/local/lib/python3.7/dist-packages (from requests<3.0.0dev,>=2.18.0->google-api-core<3dev,>=1.21.0->google-api-python-client) (2.10)\n",
            "Requirement already satisfied: chardet<4,>=3.0.2 in /usr/local/lib/python3.7/dist-packages (from requests<3.0.0dev,>=2.18.0->google-api-core<3dev,>=1.21.0->google-api-python-client) (3.0.4)\n",
            "Requirement already satisfied: urllib3!=1.25.0,!=1.25.1,<1.26,>=1.21.1 in /usr/local/lib/python3.7/dist-packages (from requests<3.0.0dev,>=2.18.0->google-api-core<3dev,>=1.21.0->google-api-python-client) (1.24.3)\n"
          ]
        }
      ],
      "source": [
        "pip install google-api-python-client"
      ]
    },
    {
      "cell_type": "code",
      "source": [
        "from apiclient.discovery import build\n",
        "from google_auth_oauthlib.flow import InstalledAppFlow"
      ],
      "metadata": {
        "id": "uc8KbL444rjp"
      },
      "execution_count": 2,
      "outputs": []
    },
    {
      "cell_type": "code",
      "source": [
        "scopes = [\"https://www.googleapis.com/auth/calendar\"]"
      ],
      "metadata": {
        "id": "dVTxk4OF4rsP"
      },
      "execution_count": 3,
      "outputs": []
    },
    {
      "cell_type": "code",
      "source": [
        "flow = InstalledAppFlow.from_client_secrets_file(\"client_secret.json\", scopes=scopes)\n",
        "\n",
        "# Do next line Once !\n",
        "credetials = flow.run_console()"
      ],
      "metadata": {
        "colab": {
          "base_uri": "https://localhost:8080/"
        },
        "id": "nolzL-K55vyZ",
        "outputId": "5501b83b-341b-4be7-db7d-1dad74abcc16"
      },
      "execution_count": 8,
      "outputs": [
        {
          "name": "stdout",
          "output_type": "stream",
          "text": [
            "Please visit this URL to authorize this application: https://accounts.google.com/o/oauth2/auth?response_type=code&client_id=1003374631949-1hs4k5mse7aa1hu26lsqm1o2erju9onv.apps.googleusercontent.com&redirect_uri=urn%3Aietf%3Awg%3Aoauth%3A2.0%3Aoob&scope=https%3A%2F%2Fwww.googleapis.com%2Fauth%2Fcalendar&state=ksyajG20OODlQ8K9UldloDYThowauv&prompt=consent&access_type=offline\n",
            "Enter the authorization code: 4/1AdQt8qj9bhVmmbftLPwCgvq0pFxB8il2cuKCyzMQ_loBS3i-0eole1ZlIMk\n"
          ]
        }
      ]
    },
    {
      "cell_type": "code",
      "source": [
        "#import pickle\n",
        "#pickle.dump(credetials, open(\"token.pkl\", \"wb\"))"
      ],
      "metadata": {
        "id": "ZsPqMHRd4rvA",
        "colab": {
          "base_uri": "https://localhost:8080/",
          "height": 184
        },
        "outputId": "a88fd4ee-cb36-4faf-937a-05e3cd9a8cb4"
      },
      "execution_count": 5,
      "outputs": [
        {
          "output_type": "error",
          "ename": "NameError",
          "evalue": "ignored",
          "traceback": [
            "\u001b[0;31m---------------------------------------------------------------------------\u001b[0m",
            "\u001b[0;31mNameError\u001b[0m                                 Traceback (most recent call last)",
            "\u001b[0;32m<ipython-input-5-5d4a852595b1>\u001b[0m in \u001b[0;36m<module>\u001b[0;34m\u001b[0m\n\u001b[1;32m      1\u001b[0m \u001b[0;32mimport\u001b[0m \u001b[0mpickle\u001b[0m\u001b[0;34m\u001b[0m\u001b[0;34m\u001b[0m\u001b[0m\n\u001b[0;32m----> 2\u001b[0;31m \u001b[0mpickle\u001b[0m\u001b[0;34m.\u001b[0m\u001b[0mdump\u001b[0m\u001b[0;34m(\u001b[0m\u001b[0mcredetials\u001b[0m\u001b[0;34m,\u001b[0m \u001b[0mopen\u001b[0m\u001b[0;34m(\u001b[0m\u001b[0;34m\"token.pkl\"\u001b[0m\u001b[0;34m,\u001b[0m \u001b[0;34m\"wb\"\u001b[0m\u001b[0;34m)\u001b[0m\u001b[0;34m)\u001b[0m\u001b[0;34m\u001b[0m\u001b[0;34m\u001b[0m\u001b[0m\n\u001b[0m",
            "\u001b[0;31mNameError\u001b[0m: name 'credetials' is not defined"
          ]
        }
      ]
    },
    {
      "cell_type": "code",
      "source": [
        "# Run in next Time:\n",
        "#credetials = pickle.load(open(\"token.pkl\", \"rb\"))"
      ],
      "metadata": {
        "id": "my4sLT2J4rx3"
      },
      "execution_count": 41,
      "outputs": []
    },
    {
      "cell_type": "code",
      "source": [
        "service = build(\"calendar\", \"v3\", credentials=credetials)"
      ],
      "metadata": {
        "id": "uwe81qBr4r55"
      },
      "execution_count": 10,
      "outputs": []
    },
    {
      "cell_type": "code",
      "source": [
        "result_calendar = service.calendarList().list().execute()\n"
      ],
      "metadata": {
        "id": "ijnUwznf4r85"
      },
      "execution_count": 11,
      "outputs": []
    },
    {
      "cell_type": "code",
      "source": [
        "calendar_id = result_calendar['items'][0]['id']\n",
        "calendar_id"
      ],
      "metadata": {
        "id": "Ow93xLY-4r_9",
        "colab": {
          "base_uri": "https://localhost:8080/",
          "height": 35
        },
        "outputId": "cfbb93c4-fc6e-4b54-b840-87d5b0627614"
      },
      "execution_count": 42,
      "outputs": [
        {
          "output_type": "execute_result",
          "data": {
            "text/plain": [
              "'amithanina25@gmail.com'"
            ],
            "application/vnd.google.colaboratory.intrinsic+json": {
              "type": "string"
            }
          },
          "metadata": {},
          "execution_count": 42
        }
      ]
    },
    {
      "cell_type": "code",
      "source": [
        "result = service.events().list(calendarId=calendar_id).execute()"
      ],
      "metadata": {
        "id": "Yp7JAAyREWc5"
      },
      "execution_count": 13,
      "outputs": []
    },
    {
      "cell_type": "code",
      "source": [
        "result['items'][0]"
      ],
      "metadata": {
        "colab": {
          "base_uri": "https://localhost:8080/"
        },
        "id": "wH6K0oJqEWl2",
        "outputId": "3236aa30-fe19-464a-a144-2a1af2547316"
      },
      "execution_count": 43,
      "outputs": [
        {
          "output_type": "execute_result",
          "data": {
            "text/plain": [
              "{'kind': 'calendar#event',\n",
              " 'etag': '\"2945638720938000\"',\n",
              " 'id': 'qtpnk97ii5ki4936q6d3bf7prg',\n",
              " 'status': 'tentative',\n",
              " 'htmlLink': 'https://www.google.com/calendar/event?eid=cXRwbms5N2lpNWtpNDkzNnE2ZDNiZjdwcmcgYW1pdGhhbmluYTI1QG0',\n",
              " 'created': '2016-09-02T12:29:20.000Z',\n",
              " 'updated': '2016-09-02T12:29:20.469Z',\n",
              " 'summary': 'לקבוע שיננית',\n",
              " 'creator': {'email': 'amithanina25@gmail.com',\n",
              "  'displayName': 'Amit Hanina',\n",
              "  'self': True},\n",
              " 'organizer': {'email': 'amithanina25@gmail.com',\n",
              "  'displayName': 'Amit Hanina',\n",
              "  'self': True},\n",
              " 'start': {'dateTime': '2015-03-15T07:00:00+02:00',\n",
              "  'timeZone': 'Asia/Jerusalem'},\n",
              " 'end': {'dateTime': '2015-03-15T08:00:00+02:00',\n",
              "  'timeZone': 'Asia/Jerusalem'},\n",
              " 'iCalUID': 'qtpnk97ii5ki4936q6d3bf7prg@google.com',\n",
              " 'sequence': 1,\n",
              " 'reminders': {'useDefault': True},\n",
              " 'eventType': 'default'}"
            ]
          },
          "metadata": {},
          "execution_count": 43
        }
      ]
    },
    {
      "cell_type": "code",
      "source": [
        "# Try something new:\n",
        "#calendar_list_entry = service.calendarList().get(calendarId=calendar_id).execute()\n"
      ],
      "metadata": {
        "id": "-OwVqwT9EWoa"
      },
      "execution_count": 25,
      "outputs": []
    },
    {
      "cell_type": "code",
      "source": [
        "page_token = None\n",
        "while True:\n",
        "  calendar_list = service.calendarList().list(pageToken=page_token).execute()\n",
        "  for calendar_list_entry in calendar_list['items']:\n",
        "    print (calendar_list_entry['summary'])\n",
        "  page_token = calendar_list.get('nextPageToken')\n",
        "  if not page_token:\n",
        "    break"
      ],
      "metadata": {
        "colab": {
          "base_uri": "https://localhost:8080/"
        },
        "id": "0tzZVeuBEWq1",
        "outputId": "9d7568b5-4f7f-4564-e338-8a53b6180bb1"
      },
      "execution_count": 38,
      "outputs": [
        {
          "output_type": "stream",
          "name": "stdout",
          "text": [
            "amithanina25@gmail.com\n",
            "amitchen93@gmail.com\n",
            "Jewish Holidays\n",
            "shacharelias123@gmail.com\n",
            "shaharelias97@gmail.com\n"
          ]
        }
      ]
    },
    {
      "cell_type": "code",
      "source": [
        "calendar_list['items'][0]"
      ],
      "metadata": {
        "colab": {
          "base_uri": "https://localhost:8080/"
        },
        "id": "0JAzCdvrEWtd",
        "outputId": "d748a615-daa6-4589-8e08-9b216c8608d5"
      },
      "execution_count": 40,
      "outputs": [
        {
          "output_type": "execute_result",
          "data": {
            "text/plain": [
              "{'kind': 'calendar#calendarListEntry',\n",
              " 'etag': '\"1638008810489000\"',\n",
              " 'id': 'amithanina25@gmail.com',\n",
              " 'summary': 'amithanina25@gmail.com',\n",
              " 'timeZone': 'Asia/Jerusalem',\n",
              " 'colorId': '14',\n",
              " 'backgroundColor': '#9fe1e7',\n",
              " 'foregroundColor': '#000000',\n",
              " 'selected': True,\n",
              " 'accessRole': 'owner',\n",
              " 'defaultReminders': [{'method': 'popup', 'minutes': 30}],\n",
              " 'notificationSettings': {'notifications': [{'type': 'eventCreation',\n",
              "    'method': 'email'},\n",
              "   {'type': 'eventChange', 'method': 'email'},\n",
              "   {'type': 'eventCancellation', 'method': 'email'},\n",
              "   {'type': 'eventResponse', 'method': 'email'}]},\n",
              " 'primary': True,\n",
              " 'conferenceProperties': {'allowedConferenceSolutionTypes': ['hangoutsMeet']}}"
            ]
          },
          "metadata": {},
          "execution_count": 40
        }
      ]
    },
    {
      "cell_type": "code",
      "source": [],
      "metadata": {
        "id": "Nk-Rqn15EWv1"
      },
      "execution_count": null,
      "outputs": []
    }
  ]
}